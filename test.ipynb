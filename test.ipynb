{
 "cells": [
  {
   "cell_type": "code",
   "execution_count": 1,
   "metadata": {},
   "outputs": [
    {
     "name": "stdout",
     "output_type": "stream",
     "text": [
      "test\n"
     ]
    }
   ],
   "source": [
    "print(\"test\")"
   ]
  },
  {
   "cell_type": "code",
   "execution_count": 25,
   "metadata": {},
   "outputs": [],
   "source": [
    "import torch\n",
    "import transformers\n",
    "from transformers import pipeline\n",
    "from transformers import DistilBertModel, DistilBertForMaskedLM, DistilBertTokenizer\n",
    "from optimum.quanto import freeze, quantize, qint8"
   ]
  },
  {
   "cell_type": "code",
   "execution_count": 20,
   "metadata": {},
   "outputs": [],
   "source": [
    "model = DistilBertForMaskedLM.from_pretrained(\"distilbert-base-uncased\", torch_dtype=torch.float16, attn_implementation=\"sdpa\")\n",
    "tokenizer = DistilBertTokenizer.from_pretrained(\"distilbert-base-uncased\")"
   ]
  },
  {
   "cell_type": "code",
   "execution_count": null,
   "metadata": {},
   "outputs": [
    {
     "name": "stderr",
     "output_type": "stream",
     "text": [
      "Device set to use cpu\n"
     ]
    },
    {
     "data": {
      "text/plain": [
       "[{'score': 0.3330078125,\n",
       "  'token': 1012,\n",
       "  'token_str': '.',\n",
       "  'sequence': 'i like eating.'},\n",
       " {'score': 0.03900146484375,\n",
       "  'token': 15960,\n",
       "  'token_str': 'pork',\n",
       "  'sequence': 'i like eating pork'},\n",
       " {'score': 0.033233642578125,\n",
       "  'token': 10733,\n",
       "  'token_str': 'pizza',\n",
       "  'sequence': 'i like eating pizza'},\n",
       " {'score': 0.0299072265625,\n",
       "  'token': 7967,\n",
       "  'token_str': 'chocolate',\n",
       "  'sequence': 'i like eating chocolate'},\n",
       " {'score': 0.0247039794921875,\n",
       "  'token': 6240,\n",
       "  'token_str': 'meat',\n",
       "  'sequence': 'i like eating meat'}]"
      ]
     },
     "execution_count": 22,
     "metadata": {},
     "output_type": "execute_result"
    }
   ],
   "source": [
    "p = pipeline(task=\"fill-mask\", model=model, tokenizer=tokenizer)\n",
    "p(\"I like eating [MASK]\")"
   ]
  },
  {
   "cell_type": "code",
   "execution_count": null,
   "metadata": {},
   "outputs": [],
   "source": [
    "quantize(model, weights=qint8, activations=None)"
   ]
  },
  {
   "cell_type": "code",
   "execution_count": 27,
   "metadata": {},
   "outputs": [
    {
     "name": "stdout",
     "output_type": "stream",
     "text": [
      "DistilBertForMaskedLM(\n",
      "  (activation): GELUActivation()\n",
      "  (distilbert): DistilBertModel(\n",
      "    (embeddings): Embeddings(\n",
      "      (word_embeddings): Embedding(30522, 768, padding_idx=0)\n",
      "      (position_embeddings): Embedding(512, 768)\n",
      "      (LayerNorm): QLayerNorm((768,), eps=1e-12, elementwise_affine=True)\n",
      "      (dropout): Dropout(p=0.1, inplace=False)\n",
      "    )\n",
      "    (transformer): Transformer(\n",
      "      (layer): ModuleList(\n",
      "        (0-5): 6 x TransformerBlock(\n",
      "          (attention): DistilBertSdpaAttention(\n",
      "            (dropout): Dropout(p=0.1, inplace=False)\n",
      "            (q_lin): QLinear(in_features=768, out_features=768, bias=True)\n",
      "            (k_lin): QLinear(in_features=768, out_features=768, bias=True)\n",
      "            (v_lin): QLinear(in_features=768, out_features=768, bias=True)\n",
      "            (out_lin): QLinear(in_features=768, out_features=768, bias=True)\n",
      "          )\n",
      "          (sa_layer_norm): QLayerNorm((768,), eps=1e-12, elementwise_affine=True)\n",
      "          (ffn): FFN(\n",
      "            (dropout): Dropout(p=0.1, inplace=False)\n",
      "            (lin1): QLinear(in_features=768, out_features=3072, bias=True)\n",
      "            (lin2): QLinear(in_features=3072, out_features=768, bias=True)\n",
      "            (activation): GELUActivation()\n",
      "          )\n",
      "          (output_layer_norm): QLayerNorm((768,), eps=1e-12, elementwise_affine=True)\n",
      "        )\n",
      "      )\n",
      "    )\n",
      "  )\n",
      "  (vocab_transform): QLinear(in_features=768, out_features=768, bias=True)\n",
      "  (vocab_layer_norm): QLayerNorm((768,), eps=1e-12, elementwise_affine=True)\n",
      "  (vocab_projector): QLinear(in_features=768, out_features=30522, bias=True)\n",
      "  (mlm_loss_fct): CrossEntropyLoss()\n",
      ")\n"
     ]
    }
   ],
   "source": [
    "print(model)"
   ]
  },
  {
   "cell_type": "code",
   "execution_count": 30,
   "metadata": {},
   "outputs": [
    {
     "data": {
      "text/plain": [
       "[{'score': 0.012725830078125,\n",
       "  'token': 26692,\n",
       "  'token_str': '##roi',\n",
       "  'sequence': 'i like eatingroi'},\n",
       " {'score': 0.012725830078125,\n",
       "  'token': 28989,\n",
       "  'token_str': '##hner',\n",
       "  'sequence': 'i like eatinghner'},\n",
       " {'score': 0.012725830078125,\n",
       "  'token': 17161,\n",
       "  'token_str': 'paso',\n",
       "  'sequence': 'i like eating paso'},\n",
       " {'score': 0.004680633544921875,\n",
       "  'token': 3659,\n",
       "  'token_str': 'spread',\n",
       "  'sequence': 'i like eating spread'},\n",
       " {'score': 0.004680633544921875,\n",
       "  'token': 3962,\n",
       "  'token_str': 'spot',\n",
       "  'sequence': 'i like eating spot'}]"
      ]
     },
     "execution_count": 30,
     "metadata": {},
     "output_type": "execute_result"
    }
   ],
   "source": [
    "p(\"I like eating [MASK]\")"
   ]
  }
 ],
 "metadata": {
  "kernelspec": {
   "display_name": ".venv",
   "language": "python",
   "name": ".venv"
  },
  "language_info": {
   "codemirror_mode": {
    "name": "ipython",
    "version": 3
   },
   "file_extension": ".py",
   "mimetype": "text/x-python",
   "name": "python",
   "nbconvert_exporter": "python",
   "pygments_lexer": "ipython3",
   "version": "3.12.3"
  }
 },
 "nbformat": 4,
 "nbformat_minor": 2
}
